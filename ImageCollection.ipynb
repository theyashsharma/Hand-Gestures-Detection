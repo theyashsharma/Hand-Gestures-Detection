{
 "cells": [
  {
   "cell_type": "markdown",
   "id": "3b32b5ef",
   "metadata": {},
   "source": [
    "# Image Collection"
   ]
  },
  {
   "cell_type": "markdown",
   "id": "664ab527",
   "metadata": {},
   "source": [
    "### 1. Importing Dependencies"
   ]
  },
  {
   "cell_type": "code",
   "execution_count": 1,
   "id": "b4d4d871",
   "metadata": {},
   "outputs": [
    {
     "name": "stdout",
     "output_type": "stream",
     "text": [
      "Collecting opencv-python\n",
      "  Downloading opencv_python-4.5.3.56-cp38-cp38-win_amd64.whl (34.9 MB)\n",
      "Requirement already satisfied: numpy>=1.17.3 in c:\\users\\yasha\\anaconda3\\lib\\site-packages (from opencv-python) (1.20.1)\n",
      "Installing collected packages: opencv-python\n",
      "Successfully installed opencv-python-4.5.3.56\n"
     ]
    }
   ],
   "source": [
    "!pip install opencv-python"
   ]
  },
  {
   "cell_type": "code",
   "execution_count": 2,
   "id": "3a1d7ebe",
   "metadata": {},
   "outputs": [],
   "source": [
    "# Import opencv\n",
    "import cv2 \n",
    "\n",
    "# Import uuid\n",
    "import uuid\n",
    "\n",
    "# Import Operating System\n",
    "import os\n",
    "\n",
    "# Import time\n",
    "import time"
   ]
  },
  {
   "cell_type": "markdown",
   "id": "069e75eb",
   "metadata": {},
   "source": [
    "### 2. Defining Images to collect"
   ]
  },
  {
   "cell_type": "code",
   "execution_count": 3,
   "id": "2b4071cf",
   "metadata": {},
   "outputs": [],
   "source": [
    "labels = ['thumbsup', 'thumbsdown', 'thankyou', 'livelong'] #the labels we are going to detect\n",
    "number_imgs = 5 #number of images we're giving to each label, more the images -> better is the performance"
   ]
  },
  {
   "cell_type": "markdown",
   "id": "010b6f72",
   "metadata": {},
   "source": [
    "### 3. Setting up folder"
   ]
  },
  {
   "cell_type": "code",
   "execution_count": 4,
   "id": "eba95be0",
   "metadata": {},
   "outputs": [],
   "source": [
    "IMAGES_PATH = os.path.join('Tensorflow', 'workspace', 'images', 'collectedimages')"
   ]
  },
  {
   "cell_type": "code",
   "execution_count": 5,
   "id": "6d11c791",
   "metadata": {},
   "outputs": [],
   "source": [
    "if not os.path.exists(IMAGES_PATH):\n",
    "    if os.name == 'posix':\n",
    "        !mkdir -p {IMAGES_PATH}\n",
    "    if os.name == 'nt':\n",
    "         !mkdir {IMAGES_PATH}\n",
    "for label in labels:\n",
    "    path = os.path.join(IMAGES_PATH, label)\n",
    "    if not os.path.exists(path):\n",
    "        !mkdir {path}"
   ]
  },
  {
   "cell_type": "markdown",
   "id": "01cdbb63",
   "metadata": {},
   "source": [
    "### 4. Capturing Images"
   ]
  },
  {
   "cell_type": "code",
   "execution_count": 7,
   "id": "76387c5e",
   "metadata": {},
   "outputs": [
    {
     "name": "stdout",
     "output_type": "stream",
     "text": [
      "Collecting images for thumbsup\n",
      "Collecting image 0\n",
      "Collecting image 1\n",
      "Collecting image 2\n",
      "Collecting image 3\n",
      "Collecting image 4\n",
      "Collecting images for thumbsdown\n",
      "Collecting image 0\n",
      "Collecting image 1\n",
      "Collecting image 2\n",
      "Collecting image 3\n",
      "Collecting image 4\n",
      "Collecting images for thankyou\n",
      "Collecting image 0\n",
      "Collecting image 1\n",
      "Collecting image 2\n",
      "Collecting image 3\n",
      "Collecting image 4\n",
      "Collecting images for livelong\n",
      "Collecting image 0\n",
      "Collecting image 1\n",
      "Collecting image 2\n",
      "Collecting image 3\n",
      "Collecting image 4\n"
     ]
    }
   ],
   "source": [
    "for label in labels:\n",
    "    cap = cv2.VideoCapture(0) #Connects to our web cam or capture device\n",
    "    # 0 in VideoCapture(0) is referring to my web cam, it can be different for different devices like 1, 2, 3, etc.\n",
    "    print('Collecting images for {}'.format(label))\n",
    "    time.sleep(5)\n",
    "    for imgnum in range(number_imgs):\n",
    "        print('Collecting image {}'.format(imgnum))\n",
    "        ret, frame = cap.read()\n",
    "        imgname = os.path.join(IMAGES_PATH,label,label+'.'+'{}.jpg'.format(str(uuid.uuid1())))\n",
    "        cv2.imwrite(imgname, frame)\n",
    "        cv2.imshow('frame', frame)\n",
    "        time.sleep(2)\n",
    "\n",
    "        if cv2.waitKey(1) & 0xFF == ord('q'):\n",
    "            break\n",
    "cap.release()\n",
    "cv2.destroyAllWindows()"
   ]
  },
  {
   "cell_type": "markdown",
   "id": "0c7abb32",
   "metadata": {},
   "source": [
    "### 5. Image Labelling"
   ]
  },
  {
   "cell_type": "code",
   "execution_count": 12,
   "id": "5490faae",
   "metadata": {},
   "outputs": [
    {
     "name": "stdout",
     "output_type": "stream",
     "text": [
      "Collecting pyqt5==5.12\n",
      "  Using cached PyQt5-5.12-5.12.1_a-cp35.cp36.cp37.cp38-none-win_amd64.whl (49.4 MB)\n",
      "Requirement already satisfied: lxml in c:\\users\\yasha\\anaconda3\\lib\\site-packages (4.6.3)\n",
      "Collecting PyQt5_sip<4.20,>=4.19.14\n",
      "  Using cached PyQt5_sip-4.19.19-cp38-none-win_amd64.whl (52 kB)\n",
      "Installing collected packages: PyQt5-sip, pyqt5\n",
      "  Attempting uninstall: PyQt5-sip\n",
      "    Found existing installation: PyQt5-sip 12.9.0\n",
      "    Uninstalling PyQt5-sip-12.9.0:\n",
      "      Successfully uninstalled PyQt5-sip-12.9.0\n",
      "  Attempting uninstall: pyqt5\n",
      "    Found existing installation: PyQt5 5.15.4\n",
      "    Uninstalling PyQt5-5.15.4:\n",
      "      Successfully uninstalled PyQt5-5.15.4\n",
      "Successfully installed PyQt5-sip-4.19.19 pyqt5-5.12\n"
     ]
    }
   ],
   "source": [
    "!pip install --upgrade pyqt5==5.12 lxml"
   ]
  },
  {
   "cell_type": "code",
   "execution_count": 13,
   "id": "8d00d561",
   "metadata": {},
   "outputs": [],
   "source": [
    "LABELIMG_PATH = os.path.join('Tensorflow', 'labelimg')"
   ]
  },
  {
   "cell_type": "code",
   "execution_count": 14,
   "id": "b841cef2",
   "metadata": {},
   "outputs": [
    {
     "name": "stderr",
     "output_type": "stream",
     "text": [
      "Cloning into 'Tensorflow\\labelimg'...\n"
     ]
    }
   ],
   "source": [
    "if not os.path.exists(LABELIMG_PATH):\n",
    "    !mkdir {LABELIMG_PATH}\n",
    "    !git clone https://github.com/tzutalin/labelImg {LABELIMG_PATH}"
   ]
  },
  {
   "cell_type": "code",
   "execution_count": 16,
   "id": "c4a07992",
   "metadata": {},
   "outputs": [],
   "source": [
    "if os.name == 'posix':\n",
    "    !make qt5py3\n",
    "if os.name =='nt':\n",
    "    !cd {LABELIMG_PATH} && pyrcc5 -o libs/resources.py resources.qrc"
   ]
  },
  {
   "cell_type": "code",
   "execution_count": 18,
   "id": "9afcfcc5",
   "metadata": {},
   "outputs": [
    {
     "name": "stdout",
     "output_type": "stream",
     "text": [
      "Image:E:\\Projects\\TFOD\\TFODCourse\\Tensorflow\\workspace\\images\\collectedimages\\livelong\\livelong.7e79b5e6-f4f6-11eb-b398-38f3ab6832da.jpg -> Annotation:E:/Projects/TFOD/TFODCourse/Tensorflow/workspace/images/collectedimages/livelong/livelong.7e79b5e6-f4f6-11eb-b398-38f3ab6832da.xml\n",
      "Cancel creation.\n",
      "Image:E:\\Projects\\TFOD\\TFODCourse\\Tensorflow\\workspace\\images\\collectedimages\\livelong\\livelong.79a1d071-f4f6-11eb-a1d9-38f3ab6832da.jpg -> Annotation:E:/Projects/TFOD/TFODCourse/Tensorflow/workspace/images/collectedimages/livelong/livelong.79a1d071-f4f6-11eb-a1d9-38f3ab6832da.xml\n",
      "Image:E:\\Projects\\TFOD\\TFODCourse\\Tensorflow\\workspace\\images\\collectedimages\\livelong\\livelong.f7eeebea-f4f5-11eb-b970-38f3ab6832da.jpg -> Annotation:E:/Projects/TFOD/TFODCourse/Tensorflow/workspace/images/collectedimages/livelong/livelong.f7eeebea-f4f5-11eb-b970-38f3ab6832da.xml\n",
      "Image:E:\\Projects\\TFOD\\TFODCourse\\Tensorflow\\workspace\\images\\collectedimages\\livelong\\livelong.f44b0c3c-f4f5-11eb-be2d-38f3ab6832da.jpg -> Annotation:E:/Projects/TFOD/TFODCourse/Tensorflow/workspace/images/collectedimages/livelong/livelong.f44b0c3c-f4f5-11eb-be2d-38f3ab6832da.xml\n",
      "Image:E:\\Projects\\TFOD\\TFODCourse\\Tensorflow\\workspace\\images\\collectedimages\\livelong\\livelong.f925ccef-f4f5-11eb-885c-38f3ab6832da.jpg -> Annotation:E:/Projects/TFOD/TFODCourse/Tensorflow/workspace/images/collectedimages/livelong/livelong.f925ccef-f4f5-11eb-885c-38f3ab6832da.xml\n",
      "Cancel creation.\n",
      "Cancel creation.\n",
      "Image:E:\\Projects\\TFOD\\TFODCourse\\Tensorflow\\workspace\\images\\collectedimages\\thankyou\\thankyou.6f0db5ca-f4f6-11eb-9f92-38f3ab6832da.jpg -> Annotation:E:/Projects/TFOD/TFODCourse/Tensorflow/workspace/images/collectedimages/thankyou/thankyou.6f0db5ca-f4f6-11eb-9f92-38f3ab6832da.xml\n",
      "Image:E:\\Projects\\TFOD\\TFODCourse\\Tensorflow\\workspace\\images\\collectedimages\\thankyou\\thankyou.72b0330b-f4f6-11eb-b3ab-38f3ab6832da.jpg -> Annotation:E:/Projects/TFOD/TFODCourse/Tensorflow/workspace/images/collectedimages/thankyou/thankyou.72b0330b-f4f6-11eb-b3ab-38f3ab6832da.xml\n",
      "Image:E:\\Projects\\TFOD\\TFODCourse\\Tensorflow\\workspace\\images\\collectedimages\\thankyou\\thankyou.73e7a201-f4f6-11eb-8ee0-38f3ab6832da.jpg -> Annotation:E:/Projects/TFOD/TFODCourse/Tensorflow/workspace/images/collectedimages/thankyou/thankyou.73e7a201-f4f6-11eb-8ee0-38f3ab6832da.xml\n",
      "Image:E:\\Projects\\TFOD\\TFODCourse\\Tensorflow\\workspace\\images\\collectedimages\\thankyou\\thankyou.717a7c21-f4f6-11eb-904e-38f3ab6832da.jpg -> Annotation:E:/Projects/TFOD/TFODCourse/Tensorflow/workspace/images/collectedimages/thankyou/thankyou.717a7c21-f4f6-11eb-904e-38f3ab6832da.xml\n",
      "Image:E:\\Projects\\TFOD\\TFODCourse\\Tensorflow\\workspace\\images\\collectedimages\\thankyou\\thankyou.ed75e8c2-f4f5-11eb-8e57-38f3ab6832da.jpg -> Annotation:E:/Projects/TFOD/TFODCourse/Tensorflow/workspace/images/collectedimages/thankyou/thankyou.ed75e8c2-f4f5-11eb-8e57-38f3ab6832da.xml\n",
      "Image:E:\\Projects\\TFOD\\TFODCourse\\Tensorflow\\workspace\\images\\collectedimages\\thankyou\\thankyou.6f0db5ca-f4f6-11eb-9f92-38f3ab6832da.jpg -> Annotation:E:/Projects/TFOD/TFODCourse/Tensorflow/workspace/images/collectedimages/thankyou/thankyou.6f0db5ca-f4f6-11eb-9f92-38f3ab6832da.xml\n",
      "Image:E:\\Projects\\TFOD\\TFODCourse\\Tensorflow\\workspace\\images\\collectedimages\\thankyou\\thankyou.72b0330b-f4f6-11eb-b3ab-38f3ab6832da.jpg -> Annotation:E:/Projects/TFOD/TFODCourse/Tensorflow/workspace/images/collectedimages/thankyou/thankyou.72b0330b-f4f6-11eb-b3ab-38f3ab6832da.xml\n",
      "Image:E:\\Projects\\TFOD\\TFODCourse\\Tensorflow\\workspace\\images\\collectedimages\\thankyou\\thankyou.73e7a201-f4f6-11eb-8ee0-38f3ab6832da.jpg -> Annotation:E:/Projects/TFOD/TFODCourse/Tensorflow/workspace/images/collectedimages/thankyou/thankyou.73e7a201-f4f6-11eb-8ee0-38f3ab6832da.xml\n",
      "Image:E:\\Projects\\TFOD\\TFODCourse\\Tensorflow\\workspace\\images\\collectedimages\\thankyou\\thankyou.717a7c21-f4f6-11eb-904e-38f3ab6832da.jpg -> Annotation:E:/Projects/TFOD/TFODCourse/Tensorflow/workspace/images/collectedimages/thankyou/thankyou.717a7c21-f4f6-11eb-904e-38f3ab6832da.xml\n",
      "Image:E:\\Projects\\TFOD\\TFODCourse\\Tensorflow\\workspace\\images\\collectedimages\\thankyou\\thankyou.ed75e8c2-f4f5-11eb-8e57-38f3ab6832da.jpg -> Annotation:E:/Projects/TFOD/TFODCourse/Tensorflow/workspace/images/collectedimages/thankyou/thankyou.ed75e8c2-f4f5-11eb-8e57-38f3ab6832da.xml\n",
      "Cancel creation.\n",
      "Image:E:\\Projects\\TFOD\\TFODCourse\\Tensorflow\\workspace\\images\\collectedimages\\thumbsdown\\thumbsdown.66e5ac16-f4f6-11eb-acd7-38f3ab6832da.jpg -> Annotation:E:/Projects/TFOD/TFODCourse/Tensorflow/workspace/images/collectedimages/thumbsdown/thumbsdown.66e5ac16-f4f6-11eb-acd7-38f3ab6832da.xml\n",
      "Image:E:\\Projects\\TFOD\\TFODCourse\\Tensorflow\\workspace\\images\\collectedimages\\thumbsdown\\thumbsdown.681be755-f4f6-11eb-b5ec-38f3ab6832da.jpg -> Annotation:E:/Projects/TFOD/TFODCourse/Tensorflow/workspace/images/collectedimages/thumbsdown/thumbsdown.681be755-f4f6-11eb-b5ec-38f3ab6832da.xml\n",
      "Image:E:\\Projects\\TFOD\\TFODCourse\\Tensorflow\\workspace\\images\\collectedimages\\thumbsdown\\thumbsdown.695269ae-f4f6-11eb-9776-38f3ab6832da.jpg -> Annotation:E:/Projects/TFOD/TFODCourse/Tensorflow/workspace/images/collectedimages/thumbsdown/thumbsdown.695269ae-f4f6-11eb-9776-38f3ab6832da.xml\n",
      "Image:E:\\Projects\\TFOD\\TFODCourse\\Tensorflow\\workspace\\images\\collectedimages\\thumbsdown\\thumbsdown.e081dd1c-f4f5-11eb-b818-38f3ab6832da.jpg -> Annotation:E:/Projects/TFOD/TFODCourse/Tensorflow/workspace/images/collectedimages/thumbsdown/thumbsdown.e081dd1c-f4f5-11eb-b818-38f3ab6832da.xml\n",
      "Image:E:\\Projects\\TFOD\\TFODCourse\\Tensorflow\\workspace\\images\\collectedimages\\thumbsdown\\thumbsdown.e4289ad0-f4f5-11eb-a44b-38f3ab6832da.jpg -> Annotation:E:/Projects/TFOD/TFODCourse/Tensorflow/workspace/images/collectedimages/thumbsdown/thumbsdown.e4289ad0-f4f5-11eb-a44b-38f3ab6832da.xml\n",
      "Image:E:\\Projects\\TFOD\\TFODCourse\\Tensorflow\\workspace\\images\\collectedimages\\thumbsup\\thumbsup.5c6a6be8-f4f6-11eb-8c67-38f3ab6832da.jpg -> Annotation:E:/Projects/TFOD/TFODCourse/Tensorflow/workspace/images/collectedimages/thumbsup/thumbsup.5c6a6be8-f4f6-11eb-8c67-38f3ab6832da.xml\n",
      "Image:E:\\Projects\\TFOD\\TFODCourse\\Tensorflow\\workspace\\images\\collectedimages\\thumbsup\\thumbsup.5da07492-f4f6-11eb-b719-38f3ab6832da.jpg -> Annotation:E:/Projects/TFOD/TFODCourse/Tensorflow/workspace/images/collectedimages/thumbsup/thumbsup.5da07492-f4f6-11eb-b719-38f3ab6832da.xml\n",
      "Image:E:\\Projects\\TFOD\\TFODCourse\\Tensorflow\\workspace\\images\\collectedimages\\thumbsup\\thumbsup.5ed64cd6-f4f6-11eb-b6a8-38f3ab6832da.jpg -> Annotation:E:/Projects/TFOD/TFODCourse/Tensorflow/workspace/images/collectedimages/thumbsup/thumbsup.5ed64cd6-f4f6-11eb-b6a8-38f3ab6832da.xml\n",
      "Image:E:\\Projects\\TFOD\\TFODCourse\\Tensorflow\\workspace\\images\\collectedimages\\thumbsup\\thumbsup.59fc562f-f4f6-11eb-a979-38f3ab6832da.jpg -> Annotation:E:/Projects/TFOD/TFODCourse/Tensorflow/workspace/images/collectedimages/thumbsup/thumbsup.59fc562f-f4f6-11eb-a979-38f3ab6832da.xml\n",
      "Image:E:\\Projects\\TFOD\\TFODCourse\\Tensorflow\\workspace\\images\\collectedimages\\thumbsup\\thumbsup.d6086a4f-f4f5-11eb-915e-38f3ab6832da.jpg -> Annotation:E:/Projects/TFOD/TFODCourse/Tensorflow/workspace/images/collectedimages/thumbsup/thumbsup.d6086a4f-f4f5-11eb-915e-38f3ab6832da.xml\n",
      "Image:E:\\Projects\\TFOD\\TFODCourse\\Tensorflow\\workspace\\images\\collectedimages\\livelong\\livelong.7e79b5e6-f4f6-11eb-b398-38f3ab6832da.jpg -> Annotation:E:/Projects/TFOD/TFODCourse/Tensorflow/workspace/images/collectedimages/livelong/livelong.7e79b5e6-f4f6-11eb-b398-38f3ab6832da.xml\n",
      "Image:E:\\Projects\\TFOD\\TFODCourse\\Tensorflow\\workspace\\images\\collectedimages\\livelong\\livelong.79a1d071-f4f6-11eb-a1d9-38f3ab6832da.jpg -> Annotation:E:/Projects/TFOD/TFODCourse/Tensorflow/workspace/images/collectedimages/livelong/livelong.79a1d071-f4f6-11eb-a1d9-38f3ab6832da.xml\n",
      "Image:E:\\Projects\\TFOD\\TFODCourse\\Tensorflow\\workspace\\images\\collectedimages\\livelong\\livelong.f7eeebea-f4f5-11eb-b970-38f3ab6832da.jpg -> Annotation:E:/Projects/TFOD/TFODCourse/Tensorflow/workspace/images/collectedimages/livelong/livelong.f7eeebea-f4f5-11eb-b970-38f3ab6832da.xml\n",
      "Image:E:\\Projects\\TFOD\\TFODCourse\\Tensorflow\\workspace\\images\\collectedimages\\livelong\\livelong.f44b0c3c-f4f5-11eb-be2d-38f3ab6832da.jpg -> Annotation:E:/Projects/TFOD/TFODCourse/Tensorflow/workspace/images/collectedimages/livelong/livelong.f44b0c3c-f4f5-11eb-be2d-38f3ab6832da.xml\n",
      "Image:E:\\Projects\\TFOD\\TFODCourse\\Tensorflow\\workspace\\images\\collectedimages\\livelong\\livelong.f925ccef-f4f5-11eb-885c-38f3ab6832da.jpg -> Annotation:E:/Projects/TFOD/TFODCourse/Tensorflow/workspace/images/collectedimages/livelong/livelong.f925ccef-f4f5-11eb-885c-38f3ab6832da.xml\n"
     ]
    },
    {
     "name": "stderr",
     "output_type": "stream",
     "text": [
      "labelImg.py:208: DeprecationWarning: an integer is required (got type DockWidgetFeatures).  Implicit conversion to integers using __int__ is deprecated, and may be removed in a future version of Python.\n",
      "  self.dock.setFeatures(self.dock.features() ^ self.dock_features)\n",
      "labelImg.py:965: DeprecationWarning: an integer is required (got type float).  Implicit conversion to integers using __int__ is deprecated, and may be removed in a future version of Python.\n",
      "  bar.setValue(bar.value() + bar.singleStep() * units)\n"
     ]
    }
   ],
   "source": [
    "!cd {LABELIMG_PATH} && python labelImg.py"
   ]
  },
  {
   "cell_type": "markdown",
   "id": "fbf4b7d3",
   "metadata": {},
   "source": [
    "### 6. Moving them into Training and Test set"
   ]
  },
  {
   "cell_type": "code",
   "execution_count": null,
   "id": "afbf5b94",
   "metadata": {},
   "outputs": [],
   "source": []
  }
 ],
 "metadata": {
  "kernelspec": {
   "display_name": "Python 3",
   "language": "python",
   "name": "python3"
  },
  "language_info": {
   "codemirror_mode": {
    "name": "ipython",
    "version": 3
   },
   "file_extension": ".py",
   "mimetype": "text/x-python",
   "name": "python",
   "nbconvert_exporter": "python",
   "pygments_lexer": "ipython3",
   "version": "3.8.8"
  }
 },
 "nbformat": 4,
 "nbformat_minor": 5
}
